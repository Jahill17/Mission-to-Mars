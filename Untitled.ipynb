{
 "cells": [
  {
   "cell_type": "code",
   "execution_count": 1,
   "id": "270578bd",
   "metadata": {},
   "outputs": [],
   "source": [
    "#pip install webdriver_manager"
   ]
  },
  {
   "cell_type": "code",
   "execution_count": 2,
   "id": "f372d7a2",
   "metadata": {},
   "outputs": [
    {
     "name": "stdout",
     "output_type": "stream",
     "text": [
      "2022-07-07 08:29:58,783 INFO NumExpr defaulting to 8 threads.\n"
     ]
    }
   ],
   "source": [
    "# Import our scraping tools: the Browser instance from splinter, the BeautifulSoup object, \n",
    "# and the driver object for Chrome, ChromeDriverManager\n",
    "\n",
    "from splinter import Browser\n",
    "from bs4 import BeautifulSoup as soup\n",
    "from webdriver_manager.chrome import ChromeDriverManager\n",
    "import pandas as pd"
   ]
  },
  {
   "cell_type": "code",
   "execution_count": 3,
   "id": "b1857187",
   "metadata": {},
   "outputs": [],
   "source": [
    "#pip install pywin32"
   ]
  },
  {
   "cell_type": "code",
   "execution_count": 4,
   "id": "b51ac18b",
   "metadata": {},
   "outputs": [
    {
     "name": "stdout",
     "output_type": "stream",
     "text": [
      "\n"
     ]
    },
    {
     "name": "stderr",
     "output_type": "stream",
     "text": [
      "[WDM] - ====== WebDriver manager ======\n"
     ]
    },
    {
     "name": "stdout",
     "output_type": "stream",
     "text": [
      "2022-07-07 08:29:59,778 INFO ====== WebDriver manager ======\n"
     ]
    },
    {
     "ename": "ImportError",
     "evalue": "DLL load failed while importing win32api: The specified module could not be found.",
     "output_type": "error",
     "traceback": [
      "\u001b[1;31m---------------------------------------------------------------------------\u001b[0m",
      "\u001b[1;31mImportError\u001b[0m                               Traceback (most recent call last)",
      "Input \u001b[1;32mIn [4]\u001b[0m, in \u001b[0;36m<cell line: 3>\u001b[1;34m()\u001b[0m\n\u001b[0;32m      1\u001b[0m \u001b[38;5;66;03m# Set up Splinter\u001b[39;00m\n\u001b[1;32m----> 3\u001b[0m executable_path \u001b[38;5;241m=\u001b[39m {\u001b[38;5;124m'\u001b[39m\u001b[38;5;124mexecutable_path\u001b[39m\u001b[38;5;124m'\u001b[39m: \u001b[43mChromeDriverManager\u001b[49m\u001b[43m(\u001b[49m\u001b[43m)\u001b[49m\u001b[38;5;241;43m.\u001b[39;49m\u001b[43minstall\u001b[49m\u001b[43m(\u001b[49m\u001b[43m)\u001b[49m}\n\u001b[0;32m      4\u001b[0m browser \u001b[38;5;241m=\u001b[39m Browser(\u001b[38;5;124m'\u001b[39m\u001b[38;5;124mchrome\u001b[39m\u001b[38;5;124m'\u001b[39m, \u001b[38;5;241m*\u001b[39m\u001b[38;5;241m*\u001b[39mexecutable_path, headless\u001b[38;5;241m=\u001b[39m\u001b[38;5;28;01mFalse\u001b[39;00m)\n",
      "File \u001b[1;32m~\\anaconda3\\lib\\site-packages\\webdriver_manager\\chrome.py:38\u001b[0m, in \u001b[0;36mChromeDriverManager.install\u001b[1;34m(self)\u001b[0m\n\u001b[0;32m     37\u001b[0m \u001b[38;5;28;01mdef\u001b[39;00m \u001b[38;5;21minstall\u001b[39m(\u001b[38;5;28mself\u001b[39m) \u001b[38;5;241m-\u001b[39m\u001b[38;5;241m>\u001b[39m \u001b[38;5;28mstr\u001b[39m:\n\u001b[1;32m---> 38\u001b[0m     driver_path \u001b[38;5;241m=\u001b[39m \u001b[38;5;28;43mself\u001b[39;49m\u001b[38;5;241;43m.\u001b[39;49m\u001b[43m_get_driver_path\u001b[49m\u001b[43m(\u001b[49m\u001b[38;5;28;43mself\u001b[39;49m\u001b[38;5;241;43m.\u001b[39;49m\u001b[43mdriver\u001b[49m\u001b[43m)\u001b[49m\n\u001b[0;32m     39\u001b[0m     os\u001b[38;5;241m.\u001b[39mchmod(driver_path, \u001b[38;5;241m0o755\u001b[39m)\n\u001b[0;32m     40\u001b[0m     \u001b[38;5;28;01mreturn\u001b[39;00m driver_path\n",
      "File \u001b[1;32m~\\anaconda3\\lib\\site-packages\\webdriver_manager\\core\\manager.py:29\u001b[0m, in \u001b[0;36mDriverManager._get_driver_path\u001b[1;34m(self, driver)\u001b[0m\n\u001b[0;32m     28\u001b[0m \u001b[38;5;28;01mdef\u001b[39;00m \u001b[38;5;21m_get_driver_path\u001b[39m(\u001b[38;5;28mself\u001b[39m, driver):\n\u001b[1;32m---> 29\u001b[0m     binary_path \u001b[38;5;241m=\u001b[39m \u001b[38;5;28;43mself\u001b[39;49m\u001b[38;5;241;43m.\u001b[39;49m\u001b[43mdriver_cache\u001b[49m\u001b[38;5;241;43m.\u001b[39;49m\u001b[43mfind_driver\u001b[49m\u001b[43m(\u001b[49m\u001b[43mdriver\u001b[49m\u001b[43m)\u001b[49m\n\u001b[0;32m     30\u001b[0m     \u001b[38;5;28;01mif\u001b[39;00m binary_path:\n\u001b[0;32m     31\u001b[0m         \u001b[38;5;28;01mreturn\u001b[39;00m binary_path\n",
      "File \u001b[1;32m~\\anaconda3\\lib\\site-packages\\webdriver_manager\\core\\driver_cache.py:95\u001b[0m, in \u001b[0;36mDriverCache.find_driver\u001b[1;34m(self, driver)\u001b[0m\n\u001b[0;32m     93\u001b[0m os_type \u001b[38;5;241m=\u001b[39m driver\u001b[38;5;241m.\u001b[39mget_os_type()\n\u001b[0;32m     94\u001b[0m driver_name \u001b[38;5;241m=\u001b[39m driver\u001b[38;5;241m.\u001b[39mget_name()\n\u001b[1;32m---> 95\u001b[0m driver_version \u001b[38;5;241m=\u001b[39m \u001b[43mdriver\u001b[49m\u001b[38;5;241;43m.\u001b[39;49m\u001b[43mget_version\u001b[49m\u001b[43m(\u001b[49m\u001b[43m)\u001b[49m\n\u001b[0;32m     96\u001b[0m browser_version \u001b[38;5;241m=\u001b[39m driver\u001b[38;5;241m.\u001b[39mbrowser_version\n\u001b[0;32m     98\u001b[0m metadata \u001b[38;5;241m=\u001b[39m \u001b[38;5;28mself\u001b[39m\u001b[38;5;241m.\u001b[39mget_metadata()\n",
      "File \u001b[1;32m~\\anaconda3\\lib\\site-packages\\webdriver_manager\\core\\driver.py:43\u001b[0m, in \u001b[0;36mDriver.get_version\u001b[1;34m(self)\u001b[0m\n\u001b[0;32m     41\u001b[0m \u001b[38;5;28;01mdef\u001b[39;00m \u001b[38;5;21mget_version\u001b[39m(\u001b[38;5;28mself\u001b[39m):\n\u001b[0;32m     42\u001b[0m     \u001b[38;5;28mself\u001b[39m\u001b[38;5;241m.\u001b[39m_version \u001b[38;5;241m=\u001b[39m (\n\u001b[1;32m---> 43\u001b[0m         \u001b[38;5;28;43mself\u001b[39;49m\u001b[38;5;241;43m.\u001b[39;49m\u001b[43mget_latest_release_version\u001b[49m\u001b[43m(\u001b[49m\u001b[43m)\u001b[49m\n\u001b[0;32m     44\u001b[0m         \u001b[38;5;28;01mif\u001b[39;00m \u001b[38;5;28mself\u001b[39m\u001b[38;5;241m.\u001b[39m_version \u001b[38;5;241m==\u001b[39m \u001b[38;5;124m\"\u001b[39m\u001b[38;5;124mlatest\u001b[39m\u001b[38;5;124m\"\u001b[39m\n\u001b[0;32m     45\u001b[0m         \u001b[38;5;28;01melse\u001b[39;00m \u001b[38;5;28mself\u001b[39m\u001b[38;5;241m.\u001b[39m_version\n\u001b[0;32m     46\u001b[0m     )\n\u001b[0;32m     47\u001b[0m     \u001b[38;5;28;01mreturn\u001b[39;00m \u001b[38;5;28mself\u001b[39m\u001b[38;5;241m.\u001b[39m_version\n",
      "File \u001b[1;32m~\\anaconda3\\lib\\site-packages\\webdriver_manager\\drivers\\chrome.py:37\u001b[0m, in \u001b[0;36mChromeDriver.get_latest_release_version\u001b[1;34m(self)\u001b[0m\n\u001b[0;32m     36\u001b[0m \u001b[38;5;28;01mdef\u001b[39;00m \u001b[38;5;21mget_latest_release_version\u001b[39m(\u001b[38;5;28mself\u001b[39m):\n\u001b[1;32m---> 37\u001b[0m     \u001b[38;5;28mself\u001b[39m\u001b[38;5;241m.\u001b[39mbrowser_version \u001b[38;5;241m=\u001b[39m \u001b[43mget_browser_version_from_os\u001b[49m\u001b[43m(\u001b[49m\u001b[38;5;28;43mself\u001b[39;49m\u001b[38;5;241;43m.\u001b[39;49m\u001b[43mchrome_type\u001b[49m\u001b[43m)\u001b[49m\n\u001b[0;32m     38\u001b[0m     log(\u001b[38;5;124mf\u001b[39m\u001b[38;5;124m\"\u001b[39m\u001b[38;5;124mGet LATEST \u001b[39m\u001b[38;5;132;01m{\u001b[39;00m\u001b[38;5;28mself\u001b[39m\u001b[38;5;241m.\u001b[39m_name\u001b[38;5;132;01m}\u001b[39;00m\u001b[38;5;124m version for \u001b[39m\u001b[38;5;132;01m{\u001b[39;00m\u001b[38;5;28mself\u001b[39m\u001b[38;5;241m.\u001b[39mbrowser_version\u001b[38;5;132;01m}\u001b[39;00m\u001b[38;5;124m \u001b[39m\u001b[38;5;132;01m{\u001b[39;00m\u001b[38;5;28mself\u001b[39m\u001b[38;5;241m.\u001b[39mchrome_type\u001b[38;5;132;01m}\u001b[39;00m\u001b[38;5;124m\"\u001b[39m)\n\u001b[0;32m     39\u001b[0m     latest_release_url \u001b[38;5;241m=\u001b[39m (\n\u001b[0;32m     40\u001b[0m         \u001b[38;5;124mf\u001b[39m\u001b[38;5;124m\"\u001b[39m\u001b[38;5;132;01m{\u001b[39;00m\u001b[38;5;28mself\u001b[39m\u001b[38;5;241m.\u001b[39m_latest_release_url\u001b[38;5;132;01m}\u001b[39;00m\u001b[38;5;124m_\u001b[39m\u001b[38;5;132;01m{\u001b[39;00m\u001b[38;5;28mself\u001b[39m\u001b[38;5;241m.\u001b[39mbrowser_version\u001b[38;5;132;01m}\u001b[39;00m\u001b[38;5;124m\"\u001b[39m\n\u001b[0;32m     41\u001b[0m         \u001b[38;5;28;01mif\u001b[39;00m \u001b[38;5;28mself\u001b[39m\u001b[38;5;241m.\u001b[39mbrowser_version\n\u001b[0;32m     42\u001b[0m         \u001b[38;5;28;01melse\u001b[39;00m \u001b[38;5;28mself\u001b[39m\u001b[38;5;241m.\u001b[39m_latest_release_url\n\u001b[0;32m     43\u001b[0m     )\n",
      "File \u001b[1;32m~\\anaconda3\\lib\\site-packages\\webdriver_manager\\core\\utils.py:135\u001b[0m, in \u001b[0;36mget_browser_version_from_os\u001b[1;34m(browser_type)\u001b[0m\n\u001b[0;32m    132\u001b[0m metadata \u001b[38;5;241m=\u001b[39m \u001b[38;5;28;01mNone\u001b[39;00m\n\u001b[0;32m    134\u001b[0m \u001b[38;5;28;01mif\u001b[39;00m browser_type \u001b[38;5;241m==\u001b[39m ChromeType\u001b[38;5;241m.\u001b[39mGOOGLE:\n\u001b[1;32m--> 135\u001b[0m     metadata \u001b[38;5;241m=\u001b[39m \u001b[43mbrowsers\u001b[49m\u001b[38;5;241;43m.\u001b[39;49m\u001b[43mget\u001b[49m\u001b[43m(\u001b[49m\u001b[38;5;124;43m\"\u001b[39;49m\u001b[38;5;124;43mchrome\u001b[39;49m\u001b[38;5;124;43m\"\u001b[39;49m\u001b[43m)\u001b[49m\n\u001b[0;32m    137\u001b[0m \u001b[38;5;28;01mif\u001b[39;00m browser_type \u001b[38;5;241m==\u001b[39m ChromeType\u001b[38;5;241m.\u001b[39mCHROMIUM:\n\u001b[0;32m    138\u001b[0m     metadata \u001b[38;5;241m=\u001b[39m browsers\u001b[38;5;241m.\u001b[39mget(\u001b[38;5;124m\"\u001b[39m\u001b[38;5;124mchromium\u001b[39m\u001b[38;5;124m\"\u001b[39m)\n",
      "File \u001b[1;32m~\\anaconda3\\lib\\site-packages\\browsers\\__init__.py:47\u001b[0m, in \u001b[0;36mget\u001b[1;34m(browser, version)\u001b[0m\n\u001b[0;32m     37\u001b[0m \u001b[38;5;28;01mdef\u001b[39;00m \u001b[38;5;21mget\u001b[39m(browser: \u001b[38;5;28mstr\u001b[39m, version: \u001b[38;5;28mstr\u001b[39m \u001b[38;5;241m=\u001b[39m \u001b[38;5;124m\"\u001b[39m\u001b[38;5;124m*\u001b[39m\u001b[38;5;124m\"\u001b[39m) \u001b[38;5;241m-\u001b[39m\u001b[38;5;241m>\u001b[39m Optional[Browser]:\n\u001b[0;32m     38\u001b[0m     \u001b[38;5;124;03m\"\"\"\u001b[39;00m\n\u001b[0;32m     39\u001b[0m \u001b[38;5;124;03m    Returns the information for the provided browser key.\u001b[39;00m\n\u001b[0;32m     40\u001b[0m \n\u001b[1;32m   (...)\u001b[0m\n\u001b[0;32m     45\u001b[0m \u001b[38;5;124;03m    :return: Dictionary containing \"path\", \"display_name\" and \"version\".\u001b[39;00m\n\u001b[0;32m     46\u001b[0m \u001b[38;5;124;03m    \"\"\"\u001b[39;00m\n\u001b[1;32m---> 47\u001b[0m     \u001b[38;5;28;01mfor\u001b[39;00m b \u001b[38;5;129;01min\u001b[39;00m browsers():\n\u001b[0;32m     48\u001b[0m         \u001b[38;5;28;01mif\u001b[39;00m b[\u001b[38;5;124m\"\u001b[39m\u001b[38;5;124mbrowser_type\u001b[39m\u001b[38;5;124m\"\u001b[39m] \u001b[38;5;241m==\u001b[39m browser \u001b[38;5;129;01mand\u001b[39;00m fnmatch\u001b[38;5;241m.\u001b[39mfnmatch(b[\u001b[38;5;124m\"\u001b[39m\u001b[38;5;124mversion\u001b[39m\u001b[38;5;124m\"\u001b[39m], version):\n\u001b[0;32m     49\u001b[0m             \u001b[38;5;28;01mreturn\u001b[39;00m b\n",
      "File \u001b[1;32m~\\anaconda3\\lib\\site-packages\\browsers\\__init__.py:26\u001b[0m, in \u001b[0;36mbrowsers\u001b[1;34m()\u001b[0m\n\u001b[0;32m     24\u001b[0m     \u001b[38;5;28;01myield from\u001b[39;00m linux\u001b[38;5;241m.\u001b[39mbrowsers()\n\u001b[0;32m     25\u001b[0m \u001b[38;5;28;01melif\u001b[39;00m sys\u001b[38;5;241m.\u001b[39mplatform \u001b[38;5;241m==\u001b[39m \u001b[38;5;124m\"\u001b[39m\u001b[38;5;124mwin32\u001b[39m\u001b[38;5;124m\"\u001b[39m:\n\u001b[1;32m---> 26\u001b[0m     \u001b[38;5;28;01myield from\u001b[39;00m windows\u001b[38;5;241m.\u001b[39mbrowsers()\n\u001b[0;32m     27\u001b[0m \u001b[38;5;28;01melif\u001b[39;00m sys\u001b[38;5;241m.\u001b[39mplatform \u001b[38;5;241m==\u001b[39m \u001b[38;5;124m\"\u001b[39m\u001b[38;5;124mdarwin\u001b[39m\u001b[38;5;124m\"\u001b[39m:\n\u001b[0;32m     28\u001b[0m     \u001b[38;5;28;01myield from\u001b[39;00m osx\u001b[38;5;241m.\u001b[39mbrowsers()\n",
      "File \u001b[1;32m~\\anaconda3\\lib\\site-packages\\browsers\\windows.py:32\u001b[0m, in \u001b[0;36mbrowsers\u001b[1;34m()\u001b[0m\n\u001b[0;32m     29\u001b[0m \u001b[38;5;28;01mimport\u001b[39;00m \u001b[38;5;21;01mwinreg\u001b[39;00m\n\u001b[0;32m     31\u001b[0m \u001b[38;5;28;01myield from\u001b[39;00m _win32_browsers_from_registry(winreg\u001b[38;5;241m.\u001b[39mHKEY_CURRENT_USER, winreg\u001b[38;5;241m.\u001b[39mKEY_READ)\n\u001b[1;32m---> 32\u001b[0m \u001b[38;5;28;01myield from\u001b[39;00m _win32_browsers_from_registry(winreg\u001b[38;5;241m.\u001b[39mHKEY_LOCAL_MACHINE, winreg\u001b[38;5;241m.\u001b[39mKEY_READ \u001b[38;5;241m|\u001b[39m winreg\u001b[38;5;241m.\u001b[39mKEY_WOW64_64KEY)\n\u001b[0;32m     33\u001b[0m \u001b[38;5;28;01myield from\u001b[39;00m _win32_browsers_from_registry(winreg\u001b[38;5;241m.\u001b[39mHKEY_LOCAL_MACHINE, winreg\u001b[38;5;241m.\u001b[39mKEY_READ \u001b[38;5;241m|\u001b[39m winreg\u001b[38;5;241m.\u001b[39mKEY_WOW64_32KEY)\n",
      "File \u001b[1;32m~\\anaconda3\\lib\\site-packages\\browsers\\windows.py:65\u001b[0m, in \u001b[0;36m_win32_browsers_from_registry\u001b[1;34m(tree, access)\u001b[0m\n\u001b[0;32m     59\u001b[0m             \u001b[38;5;28;01mexcept\u001b[39;00m (\u001b[38;5;167;01mOSError\u001b[39;00m, \u001b[38;5;167;01mAttributeError\u001b[39;00m, \u001b[38;5;167;01mTypeError\u001b[39;00m, \u001b[38;5;167;01mValueError\u001b[39;00m):  \u001b[38;5;66;03m# pragma: no cover\u001b[39;00m\n\u001b[0;32m     60\u001b[0m                 \u001b[38;5;28;01mcontinue\u001b[39;00m\n\u001b[0;32m     61\u001b[0m             \u001b[38;5;28;01myield\u001b[39;00m Browser(\n\u001b[0;32m     62\u001b[0m                 browser_type\u001b[38;5;241m=\u001b[39mWINDOWS_REGISTRY_BROWSER_NAMES\u001b[38;5;241m.\u001b[39mget(display_name, \u001b[38;5;124m\"\u001b[39m\u001b[38;5;124munknown\u001b[39m\u001b[38;5;124m\"\u001b[39m),\n\u001b[0;32m     63\u001b[0m                 path\u001b[38;5;241m=\u001b[39mcmd,\n\u001b[0;32m     64\u001b[0m                 display_name\u001b[38;5;241m=\u001b[39mdisplay_name,\n\u001b[1;32m---> 65\u001b[0m                 version\u001b[38;5;241m=\u001b[39m\u001b[43m_get_file_version\u001b[49m\u001b[43m(\u001b[49m\u001b[43mcmd\u001b[49m\u001b[43m)\u001b[49m,\n\u001b[0;32m     66\u001b[0m             )\n\u001b[0;32m     67\u001b[0m \u001b[38;5;28;01mexcept\u001b[39;00m \u001b[38;5;167;01mFileNotFoundError\u001b[39;00m:\n\u001b[0;32m     68\u001b[0m     \u001b[38;5;28;01mpass\u001b[39;00m\n",
      "File \u001b[1;32m~\\anaconda3\\lib\\site-packages\\browsers\\windows.py:72\u001b[0m, in \u001b[0;36m_get_file_version\u001b[1;34m(path)\u001b[0m\n\u001b[0;32m     71\u001b[0m \u001b[38;5;28;01mdef\u001b[39;00m \u001b[38;5;21m_get_file_version\u001b[39m(path: \u001b[38;5;28mstr\u001b[39m) \u001b[38;5;241m-\u001b[39m\u001b[38;5;241m>\u001b[39m \u001b[38;5;28mstr\u001b[39m:\n\u001b[1;32m---> 72\u001b[0m     \u001b[38;5;28;01mimport\u001b[39;00m \u001b[38;5;21;01mwin32api\u001b[39;00m\n\u001b[0;32m     74\u001b[0m     info \u001b[38;5;241m=\u001b[39m win32api\u001b[38;5;241m.\u001b[39mGetFileVersionInfo(path, \u001b[38;5;124m\"\u001b[39m\u001b[38;5;130;01m\\\\\u001b[39;00m\u001b[38;5;124m\"\u001b[39m)\n\u001b[0;32m     75\u001b[0m     ms \u001b[38;5;241m=\u001b[39m info[\u001b[38;5;124m\"\u001b[39m\u001b[38;5;124mFileVersionMS\u001b[39m\u001b[38;5;124m\"\u001b[39m]\n",
      "\u001b[1;31mImportError\u001b[0m: DLL load failed while importing win32api: The specified module could not be found."
     ]
    }
   ],
   "source": [
    "# Set up Splinter\n",
    "\n",
    "executable_path = {'executable_path': ChromeDriverManager().install()}\n",
    "browser = Browser('chrome', **executable_path, headless=False)"
   ]
  },
  {
   "cell_type": "code",
   "execution_count": null,
   "id": "48f1bb44",
   "metadata": {},
   "outputs": [],
   "source": []
  }
 ],
 "metadata": {
  "kernelspec": {
   "display_name": "PythonData",
   "language": "python",
   "name": "pythondata"
  },
  "language_info": {
   "codemirror_mode": {
    "name": "ipython",
    "version": 3
   },
   "file_extension": ".py",
   "mimetype": "text/x-python",
   "name": "python",
   "nbconvert_exporter": "python",
   "pygments_lexer": "ipython3",
   "version": "3.9.12"
  }
 },
 "nbformat": 4,
 "nbformat_minor": 5
}
